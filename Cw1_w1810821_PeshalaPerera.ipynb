{
  "nbformat": 4,
  "nbformat_minor": 0,
  "metadata": {
    "colab": {
      "provenance": [],
      "authorship_tag": "ABX9TyMH7v4So8kNLGNY+l5wwY9I",
      "include_colab_link": true
    },
    "kernelspec": {
      "name": "python3",
      "display_name": "Python 3"
    },
    "language_info": {
      "name": "python"
    }
  },
  "cells": [
    {
      "cell_type": "markdown",
      "metadata": {
        "id": "view-in-github",
        "colab_type": "text"
      },
      "source": [
        "<a href=\"https://colab.research.google.com/github/PeshalaPerera/Geo-Location-Finder/blob/main/Cw1_w1810821_PeshalaPerera.ipynb\" target=\"_parent\"><img src=\"https://colab.research.google.com/assets/colab-badge.svg\" alt=\"Open In Colab\"/></a>"
      ]
    },
    {
      "cell_type": "markdown",
      "source": [
        "# **Part A – Application area review**"
      ],
      "metadata": {
        "id": "DPppikLdScGH"
      }
    },
    {
      "cell_type": "markdown",
      "source": [
        "## E-mail and spam filtering\n",
        "\n",
        "Email correspondence is now a necessary component of our everyday lives in both the personal and professional domains. But the growth of spam presents a serious threat to email systems' security and effectiveness. The incorporation of Artificial Intelligence (AI) has been instrumental in augmenting the efficacy of email filtering systems over time. This literature review explores the evolution of AI applications within e-mail and spam filtering, highlighting key advancements, challenges, and future directions.\n",
        "\n"
      ],
      "metadata": {
        "id": "FmnTQFaQTlZs"
      }
    },
    {
      "cell_type": "markdown",
      "source": [
        "# **Part B – Compare and evaluate AI techniques**"
      ],
      "metadata": {
        "id": "iAksNKbETBeQ"
      }
    },
    {
      "cell_type": "markdown",
      "source": [
        "# **Part C – Implementation**"
      ],
      "metadata": {
        "id": "hH0h4_cgTB2E"
      }
    },
    {
      "cell_type": "markdown",
      "source": [
        "# **Part D – Testing**"
      ],
      "metadata": {
        "id": "JoWxvy1vTCGm"
      }
    },
    {
      "cell_type": "markdown",
      "source": [
        "# **Part E – Evaluate results**"
      ],
      "metadata": {
        "id": "_I18Bi6QTI3P"
      }
    }
  ]
}